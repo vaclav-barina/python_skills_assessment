{
 "cells": [
  {
   "cell_type": "code",
   "execution_count": 1,
   "metadata": {},
   "outputs": [],
   "source": [
    "import pandas as pd\n",
    "import numpy as np\n",
    "import xlrd"
   ]
  },
  {
   "cell_type": "code",
   "execution_count": 2,
   "metadata": {},
   "outputs": [],
   "source": [
    "\"\"\"Write a program that prints the numbers from 1 to 100. But for multiples of three print “Fizz” instead of the number and for the multiples of five print “Buzz”. \n",
    "For numbers which are multiples of both three and five print “FizzBuzz”.\"\"\"\n",
    "\n",
    "def fizzbuzz():\n",
    "    for num in range(1,101):\n",
    "        multiple_five = (num % 5 == 0)\n",
    "        multiple_three = (num % 3 == 0)\n",
    "        if multiple_five & multiple_three: print('FizzBuzz')\n",
    "        elif multiple_five: print(\"Fizz\")\n",
    "        elif multiple_three: print(\"Buzz\")\n",
    "        else: print(num)\n",
    "            \n",
    "        "
   ]
  },
  {
   "cell_type": "code",
   "execution_count": 3,
   "metadata": {},
   "outputs": [],
   "source": [
    "\"\"\"“Write a function to check if a given a string is a palindrome, considering \n",
    "only alphanumeric characters and ignoring cases. For example,\"121\" is a palindrome, but \"123\" is not. \n",
    "Your function should return true if given String is a palindrome, false otherwise”\"\"\"\n",
    "\n",
    "def check_palindrome(input_string):\n",
    "    return input_string == input_string[::-1]"
   ]
  },
  {
   "cell_type": "code",
   "execution_count": 4,
   "metadata": {},
   "outputs": [
    {
     "data": {
      "text/plain": [
       "True"
      ]
     },
     "execution_count": 4,
     "metadata": {},
     "output_type": "execute_result"
    }
   ],
   "source": [
    "check_palindrome(\"121\")"
   ]
  },
  {
   "cell_type": "code",
   "execution_count": 5,
   "metadata": {},
   "outputs": [],
   "source": [
    "test_list = ['a','b','c','a','b','c','c','c','d']  "
   ]
  },
  {
   "cell_type": "code",
   "execution_count": 6,
   "metadata": {},
   "outputs": [],
   "source": [
    "\"\"\"Write a program that takes a list of string elements and outputs a dictionary where each unique element is a key and the count of that element in the value.\n",
    "Example ['a','b','a','c'] -> {'a': 2, 'b': 1, 'c':1}\"\"\"\n",
    "\n",
    "def count_elements(input_list):\n",
    "    output_dict = {}\n",
    "    for i in input_list:\n",
    "        if i in output_dict: \n",
    "            output_dict[i] += 1\n",
    "        else:\n",
    "            output_dict[i] = 1\n",
    "    return output_dict"
   ]
  },
  {
   "cell_type": "code",
   "execution_count": 7,
   "metadata": {},
   "outputs": [
    {
     "name": "stdout",
     "output_type": "stream",
     "text": [
      "{'a': 2, 'b': 2, 'c': 4, 'd': 1}\n"
     ]
    }
   ],
   "source": [
    "print(count_elements(test_list))"
   ]
  },
  {
   "cell_type": "code",
   "execution_count": 25,
   "metadata": {},
   "outputs": [],
   "source": [
    "wb = pd.ExcelFile(r\"C:\\Users\\vbarina\\Documents\\Projects\\Python Test\\movies dataset.xls\")"
   ]
  },
  {
   "cell_type": "code",
   "execution_count": 26,
   "metadata": {},
   "outputs": [
    {
     "data": {
      "text/plain": [
       "['1900s', '2000s', '2010s']"
      ]
     },
     "execution_count": 26,
     "metadata": {},
     "output_type": "execute_result"
    }
   ],
   "source": [
    "wb.sheet_names"
   ]
  },
  {
   "cell_type": "code",
   "execution_count": 27,
   "metadata": {},
   "outputs": [],
   "source": [
    "df = wb.parse(\"2010s\")"
   ]
  },
  {
   "cell_type": "code",
   "execution_count": 54,
   "metadata": {},
   "outputs": [],
   "source": [
    "df = df[df.Language == 'English']"
   ]
  },
  {
   "cell_type": "code",
   "execution_count": 55,
   "metadata": {},
   "outputs": [],
   "source": [
    "df = df.dropna(subset=['Budget','Gross_Earnings'])"
   ]
  },
  {
   "cell_type": "code",
   "execution_count": 56,
   "metadata": {},
   "outputs": [
    {
     "data": {
      "text/html": [
       "<div>\n",
       "<style scoped>\n",
       "    .dataframe tbody tr th:only-of-type {\n",
       "        vertical-align: middle;\n",
       "    }\n",
       "\n",
       "    .dataframe tbody tr th {\n",
       "        vertical-align: top;\n",
       "    }\n",
       "\n",
       "    .dataframe thead th {\n",
       "        text-align: right;\n",
       "    }\n",
       "</style>\n",
       "<table border=\"1\" class=\"dataframe\">\n",
       "  <thead>\n",
       "    <tr style=\"text-align: right;\">\n",
       "      <th></th>\n",
       "      <th>Title</th>\n",
       "      <th>Year</th>\n",
       "      <th>Genres</th>\n",
       "      <th>Language</th>\n",
       "      <th>Country</th>\n",
       "      <th>Content Rating</th>\n",
       "      <th>Duration</th>\n",
       "      <th>Aspect Ratio</th>\n",
       "      <th>Budget</th>\n",
       "      <th>Gross_Earnings</th>\n",
       "      <th>...</th>\n",
       "      <th>Facebook Likes - Actor 3</th>\n",
       "      <th>Facebook Likes - cast Total</th>\n",
       "      <th>Facebook likes - Movie</th>\n",
       "      <th>Facenumber in posters</th>\n",
       "      <th>User Votes</th>\n",
       "      <th>Reviews by Users</th>\n",
       "      <th>Reviews by Crtiics</th>\n",
       "      <th>IMDB Score</th>\n",
       "      <th>Ratio_Earnings/Budget</th>\n",
       "      <th>Earnings_over_Budget</th>\n",
       "    </tr>\n",
       "  </thead>\n",
       "  <tbody>\n",
       "    <tr>\n",
       "      <th>1334</th>\n",
       "      <td>The Gallows</td>\n",
       "      <td>2015.0</td>\n",
       "      <td>Horror|Thriller</td>\n",
       "      <td>English</td>\n",
       "      <td>USA</td>\n",
       "      <td>R</td>\n",
       "      <td>81.0</td>\n",
       "      <td>1.85</td>\n",
       "      <td>100000.0</td>\n",
       "      <td>22757819.0</td>\n",
       "      <td>...</td>\n",
       "      <td>7.0</td>\n",
       "      <td>276</td>\n",
       "      <td>0</td>\n",
       "      <td>0.0</td>\n",
       "      <td>13521</td>\n",
       "      <td>150.0</td>\n",
       "      <td>159.0</td>\n",
       "      <td>4.2</td>\n",
       "      <td>227.578190</td>\n",
       "      <td>227.578190</td>\n",
       "    </tr>\n",
       "    <tr>\n",
       "      <th>619</th>\n",
       "      <td>The Devil Inside</td>\n",
       "      <td>2012.0</td>\n",
       "      <td>Horror</td>\n",
       "      <td>English</td>\n",
       "      <td>USA</td>\n",
       "      <td>R</td>\n",
       "      <td>83.0</td>\n",
       "      <td>1.85</td>\n",
       "      <td>1000000.0</td>\n",
       "      <td>53245055.0</td>\n",
       "      <td>...</td>\n",
       "      <td>128.0</td>\n",
       "      <td>988</td>\n",
       "      <td>12000</td>\n",
       "      <td>0.0</td>\n",
       "      <td>30570</td>\n",
       "      <td>290.0</td>\n",
       "      <td>225.0</td>\n",
       "      <td>4.2</td>\n",
       "      <td>53.245055</td>\n",
       "      <td>53.245055</td>\n",
       "    </tr>\n",
       "    <tr>\n",
       "      <th>81</th>\n",
       "      <td>Insidious</td>\n",
       "      <td>2010.0</td>\n",
       "      <td>Fantasy|Horror|Mystery|Thriller</td>\n",
       "      <td>English</td>\n",
       "      <td>USA</td>\n",
       "      <td>PG-13</td>\n",
       "      <td>103.0</td>\n",
       "      <td>2.35</td>\n",
       "      <td>1500000.0</td>\n",
       "      <td>53991137.0</td>\n",
       "      <td>...</td>\n",
       "      <td>588.0</td>\n",
       "      <td>3030</td>\n",
       "      <td>60000</td>\n",
       "      <td>1.0</td>\n",
       "      <td>202800</td>\n",
       "      <td>752.0</td>\n",
       "      <td>445.0</td>\n",
       "      <td>6.8</td>\n",
       "      <td>35.994091</td>\n",
       "      <td>35.994091</td>\n",
       "    </tr>\n",
       "    <tr>\n",
       "      <th>1151</th>\n",
       "      <td>Unfriended</td>\n",
       "      <td>2014.0</td>\n",
       "      <td>Horror|Mystery|Thriller</td>\n",
       "      <td>English</td>\n",
       "      <td>USA</td>\n",
       "      <td>R</td>\n",
       "      <td>83.0</td>\n",
       "      <td>1.85</td>\n",
       "      <td>1000000.0</td>\n",
       "      <td>31537320.0</td>\n",
       "      <td>...</td>\n",
       "      <td>142.0</td>\n",
       "      <td>1565</td>\n",
       "      <td>13000</td>\n",
       "      <td>0.0</td>\n",
       "      <td>44329</td>\n",
       "      <td>309.0</td>\n",
       "      <td>270.0</td>\n",
       "      <td>5.7</td>\n",
       "      <td>31.537320</td>\n",
       "      <td>31.537320</td>\n",
       "    </tr>\n",
       "    <tr>\n",
       "      <th>124</th>\n",
       "      <td>Paranormal Activity 2</td>\n",
       "      <td>2010.0</td>\n",
       "      <td>Horror</td>\n",
       "      <td>English</td>\n",
       "      <td>USA</td>\n",
       "      <td>R</td>\n",
       "      <td>98.0</td>\n",
       "      <td>1.85</td>\n",
       "      <td>3000000.0</td>\n",
       "      <td>84749884.0</td>\n",
       "      <td>...</td>\n",
       "      <td>189.0</td>\n",
       "      <td>1081</td>\n",
       "      <td>14000</td>\n",
       "      <td>0.0</td>\n",
       "      <td>82133</td>\n",
       "      <td>359.0</td>\n",
       "      <td>264.0</td>\n",
       "      <td>5.7</td>\n",
       "      <td>28.249961</td>\n",
       "      <td>28.249961</td>\n",
       "    </tr>\n",
       "  </tbody>\n",
       "</table>\n",
       "<p>5 rows × 27 columns</p>\n",
       "</div>"
      ],
      "text/plain": [
       "                       Title    Year                           Genres  \\\n",
       "1334            The Gallows   2015.0                  Horror|Thriller   \n",
       "619        The Devil Inside   2012.0                           Horror   \n",
       "81                Insidious   2010.0  Fantasy|Horror|Mystery|Thriller   \n",
       "1151             Unfriended   2014.0          Horror|Mystery|Thriller   \n",
       "124   Paranormal Activity 2   2010.0                           Horror   \n",
       "\n",
       "     Language Country Content Rating  Duration  Aspect Ratio     Budget  \\\n",
       "1334  English     USA              R      81.0          1.85   100000.0   \n",
       "619   English     USA              R      83.0          1.85  1000000.0   \n",
       "81    English     USA          PG-13     103.0          2.35  1500000.0   \n",
       "1151  English     USA              R      83.0          1.85  1000000.0   \n",
       "124   English     USA              R      98.0          1.85  3000000.0   \n",
       "\n",
       "      Gross_Earnings          ...          Facebook Likes - Actor 3  \\\n",
       "1334      22757819.0          ...                               7.0   \n",
       "619       53245055.0          ...                             128.0   \n",
       "81        53991137.0          ...                             588.0   \n",
       "1151      31537320.0          ...                             142.0   \n",
       "124       84749884.0          ...                             189.0   \n",
       "\n",
       "     Facebook Likes - cast Total Facebook likes - Movie Facenumber in posters  \\\n",
       "1334                         276                      0                   0.0   \n",
       "619                          988                  12000                   0.0   \n",
       "81                          3030                  60000                   1.0   \n",
       "1151                        1565                  13000                   0.0   \n",
       "124                         1081                  14000                   0.0   \n",
       "\n",
       "      User Votes  Reviews by Users  Reviews by Crtiics  IMDB Score  \\\n",
       "1334       13521             150.0               159.0         4.2   \n",
       "619        30570             290.0               225.0         4.2   \n",
       "81        202800             752.0               445.0         6.8   \n",
       "1151       44329             309.0               270.0         5.7   \n",
       "124        82133             359.0               264.0         5.7   \n",
       "\n",
       "      Ratio_Earnings/Budget  Earnings_over_Budget  \n",
       "1334             227.578190            227.578190  \n",
       "619               53.245055             53.245055  \n",
       "81                35.994091             35.994091  \n",
       "1151              31.537320             31.537320  \n",
       "124               28.249961             28.249961  \n",
       "\n",
       "[5 rows x 27 columns]"
      ]
     },
     "execution_count": 56,
     "metadata": {},
     "output_type": "execute_result"
    }
   ],
   "source": [
    "df.head()"
   ]
  },
  {
   "cell_type": "code",
   "execution_count": 57,
   "metadata": {},
   "outputs": [],
   "source": [
    "df['Earnings_over_Budget'] = df['Gross_Earnings'] / df['Budget']"
   ]
  },
  {
   "cell_type": "code",
   "execution_count": 58,
   "metadata": {},
   "outputs": [],
   "source": [
    "df = df.sort_values(by=['Earnings_over_Budget'], ascending=False)"
   ]
  },
  {
   "cell_type": "code",
   "execution_count": 59,
   "metadata": {},
   "outputs": [
    {
     "data": {
      "image/png": "[encoded data removed]",
      "text/plain": [
       "<Figure size 432x288 with 1 Axes>"
      ]
     },
     "metadata": {
      "needs_background": "light"
     },
     "output_type": "display_data"
    }
   ],
   "source": [
    "ax1 = df.plot.scatter(x='Budget',\n",
    "                      y='Gross_Earnings')\n",
    "                        "
   ]
  }
 ],
 "metadata": {
  "kernelspec": {
   "display_name": "Python 3",
   "language": "python",
   "name": "python3"
  },
  "language_info": {
   "codemirror_mode": {
    "name": "ipython",
    "version": 3
   },
   "file_extension": ".py",
   "mimetype": "text/x-python",
   "name": "python",
   "nbconvert_exporter": "python",
   "pygments_lexer": "ipython3",
   "version": "3.7.1"
  }
 },
 "nbformat": 4,
 "nbformat_minor": 2
}
